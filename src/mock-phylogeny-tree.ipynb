{
 "cells": [
  {
   "cell_type": "code",
   "execution_count": 1,
   "metadata": {},
   "outputs": [],
   "source": [
    "import pandas as pd\n",
    "import networkx as nx\n",
    "import matplotlib.pyplot as plt\n",
    "import tree_constructor"
   ]
  },
  {
   "cell_type": "code",
   "execution_count": 2,
   "metadata": {},
   "outputs": [],
   "source": [
    "# Mock up dataframe used to visualize trees and then create a function to visualize those trees \n",
    "df = pd.DataFrame({\n",
    "    'Clade 4':['Asterids','Rosids','Rosids','Rosids','Asterids','Rosids'],\n",
    "    'Order':['Lamiales','Rosales','Malpighiales','Rosales','Solanales','Cucurbitales'],\n",
    "    'Family':['Lamiaceae','Cannabaceae','Euphorbiaceae','Moraceae','Solanaceae','Begoniaceae'],\n",
    "    'Subfamily':[None,None,'Crotonoideae',None,None,None],\n",
    "    'Genus':['Ocimum','Cannabis','Croton','Ficus','Solanum','Begonia'],\n",
    "    'Species':[None,None,None,'F. elastica','S. tuberosum',None],\n",
    "    'Common Name':['Basil','Cannabis','Croton','Rubber Plant','Potatoes','Begonia']\n",
    "})\n",
    "df['Kingdom'] = 'Plantae'\n",
    "df['Clade 1'] = 'Tracheophytes'\n",
    "df['Clade 2'] = 'Angiosperms'\n",
    "df['Clade 3'] = 'Eudicots'\n",
    "\n",
    "ordering_list = ['Kingdom','Clade 1','Clade 2','Clade 3','Clade 4','Order','Family','Subfamily','Genus','Species','Common Name']"
   ]
  },
  {
   "cell_type": "code",
   "execution_count": 3,
   "metadata": {},
   "outputs": [
    {
     "data": {
      "text/html": [
       "<div>\n",
       "<style scoped>\n",
       "    .dataframe tbody tr th:only-of-type {\n",
       "        vertical-align: middle;\n",
       "    }\n",
       "\n",
       "    .dataframe tbody tr th {\n",
       "        vertical-align: top;\n",
       "    }\n",
       "\n",
       "    .dataframe thead th {\n",
       "        text-align: right;\n",
       "    }\n",
       "</style>\n",
       "<table border=\"1\" class=\"dataframe\">\n",
       "  <thead>\n",
       "    <tr style=\"text-align: right;\">\n",
       "      <th></th>\n",
       "      <th>Clade 4</th>\n",
       "      <th>Order</th>\n",
       "      <th>Family</th>\n",
       "      <th>Subfamily</th>\n",
       "      <th>Genus</th>\n",
       "      <th>Species</th>\n",
       "      <th>Common Name</th>\n",
       "      <th>Kingdom</th>\n",
       "      <th>Clade 1</th>\n",
       "      <th>Clade 2</th>\n",
       "      <th>Clade 3</th>\n",
       "    </tr>\n",
       "  </thead>\n",
       "  <tbody>\n",
       "    <tr>\n",
       "      <th>0</th>\n",
       "      <td>Asterids</td>\n",
       "      <td>Lamiales</td>\n",
       "      <td>Lamiaceae</td>\n",
       "      <td>None</td>\n",
       "      <td>Ocimum</td>\n",
       "      <td>None</td>\n",
       "      <td>Basil</td>\n",
       "      <td>Plantae</td>\n",
       "      <td>Tracheophytes</td>\n",
       "      <td>Angiosperms</td>\n",
       "      <td>Eudicots</td>\n",
       "    </tr>\n",
       "    <tr>\n",
       "      <th>1</th>\n",
       "      <td>Rosids</td>\n",
       "      <td>Rosales</td>\n",
       "      <td>Cannabaceae</td>\n",
       "      <td>None</td>\n",
       "      <td>Cannabis</td>\n",
       "      <td>None</td>\n",
       "      <td>Cannabis</td>\n",
       "      <td>Plantae</td>\n",
       "      <td>Tracheophytes</td>\n",
       "      <td>Angiosperms</td>\n",
       "      <td>Eudicots</td>\n",
       "    </tr>\n",
       "    <tr>\n",
       "      <th>2</th>\n",
       "      <td>Rosids</td>\n",
       "      <td>Malpighiales</td>\n",
       "      <td>Euphorbiaceae</td>\n",
       "      <td>Crotonoideae</td>\n",
       "      <td>Croton</td>\n",
       "      <td>None</td>\n",
       "      <td>Croton</td>\n",
       "      <td>Plantae</td>\n",
       "      <td>Tracheophytes</td>\n",
       "      <td>Angiosperms</td>\n",
       "      <td>Eudicots</td>\n",
       "    </tr>\n",
       "    <tr>\n",
       "      <th>3</th>\n",
       "      <td>Rosids</td>\n",
       "      <td>Rosales</td>\n",
       "      <td>Moraceae</td>\n",
       "      <td>None</td>\n",
       "      <td>Ficus</td>\n",
       "      <td>F. elastica</td>\n",
       "      <td>Rubber Plant</td>\n",
       "      <td>Plantae</td>\n",
       "      <td>Tracheophytes</td>\n",
       "      <td>Angiosperms</td>\n",
       "      <td>Eudicots</td>\n",
       "    </tr>\n",
       "    <tr>\n",
       "      <th>4</th>\n",
       "      <td>Asterids</td>\n",
       "      <td>Solanales</td>\n",
       "      <td>Solanaceae</td>\n",
       "      <td>None</td>\n",
       "      <td>Solanum</td>\n",
       "      <td>S. tuberosum</td>\n",
       "      <td>Potatoes</td>\n",
       "      <td>Plantae</td>\n",
       "      <td>Tracheophytes</td>\n",
       "      <td>Angiosperms</td>\n",
       "      <td>Eudicots</td>\n",
       "    </tr>\n",
       "    <tr>\n",
       "      <th>5</th>\n",
       "      <td>Rosids</td>\n",
       "      <td>Cucurbitales</td>\n",
       "      <td>Begoniaceae</td>\n",
       "      <td>None</td>\n",
       "      <td>Begonia</td>\n",
       "      <td>None</td>\n",
       "      <td>Begonia</td>\n",
       "      <td>Plantae</td>\n",
       "      <td>Tracheophytes</td>\n",
       "      <td>Angiosperms</td>\n",
       "      <td>Eudicots</td>\n",
       "    </tr>\n",
       "  </tbody>\n",
       "</table>\n",
       "</div>"
      ],
      "text/plain": [
       "    Clade 4         Order         Family     Subfamily     Genus  \\\n",
       "0  Asterids      Lamiales      Lamiaceae          None    Ocimum   \n",
       "1    Rosids       Rosales    Cannabaceae          None  Cannabis   \n",
       "2    Rosids  Malpighiales  Euphorbiaceae  Crotonoideae    Croton   \n",
       "3    Rosids       Rosales       Moraceae          None     Ficus   \n",
       "4  Asterids     Solanales     Solanaceae          None   Solanum   \n",
       "5    Rosids  Cucurbitales    Begoniaceae          None   Begonia   \n",
       "\n",
       "        Species   Common Name  Kingdom        Clade 1      Clade 2   Clade 3  \n",
       "0          None         Basil  Plantae  Tracheophytes  Angiosperms  Eudicots  \n",
       "1          None      Cannabis  Plantae  Tracheophytes  Angiosperms  Eudicots  \n",
       "2          None        Croton  Plantae  Tracheophytes  Angiosperms  Eudicots  \n",
       "3   F. elastica  Rubber Plant  Plantae  Tracheophytes  Angiosperms  Eudicots  \n",
       "4  S. tuberosum      Potatoes  Plantae  Tracheophytes  Angiosperms  Eudicots  \n",
       "5          None       Begonia  Plantae  Tracheophytes  Angiosperms  Eudicots  "
      ]
     },
     "execution_count": 3,
     "metadata": {},
     "output_type": "execute_result"
    }
   ],
   "source": [
    "df"
   ]
  },
  {
   "cell_type": "code",
   "execution_count": 4,
   "metadata": {},
   "outputs": [
    {
     "name": "stdout",
     "output_type": "stream",
     "text": [
      "Clade 3\n",
      "Eudicots\n",
      "['Asterids' 'Rosids']\n",
      "Clade 4\n"
     ]
    }
   ],
   "source": [
    "common_level, common_ancestor, descendants, descendant_level = tree_constructor.find_common_ancestor(df, ordering_list)\n",
    "print(common_level)\n",
    "print(common_ancestor)\n",
    "print(descendants)\n",
    "print(descendant_level)"
   ]
  },
  {
   "cell_type": "code",
   "execution_count": 5,
   "metadata": {},
   "outputs": [
    {
     "name": "stdout",
     "output_type": "stream",
     "text": [
      "    Clade 4      Order      Family Subfamily    Genus       Species  \\\n",
      "0  Asterids   Lamiales   Lamiaceae      None   Ocimum          None   \n",
      "4  Asterids  Solanales  Solanaceae      None  Solanum  S. tuberosum   \n",
      "\n",
      "  Common Name  Kingdom        Clade 1      Clade 2   Clade 3  \n",
      "0       Basil  Plantae  Tracheophytes  Angiosperms  Eudicots  \n",
      "4    Potatoes  Plantae  Tracheophytes  Angiosperms  Eudicots  \n",
      "Clade 4\n",
      "Asterids\n",
      "['Lamiales' 'Solanales']\n",
      "Order\n",
      "  Clade 4         Order         Family     Subfamily     Genus      Species  \\\n",
      "1  Rosids       Rosales    Cannabaceae          None  Cannabis         None   \n",
      "2  Rosids  Malpighiales  Euphorbiaceae  Crotonoideae    Croton         None   \n",
      "3  Rosids       Rosales       Moraceae          None     Ficus  F. elastica   \n",
      "5  Rosids  Cucurbitales    Begoniaceae          None   Begonia         None   \n",
      "\n",
      "    Common Name  Kingdom        Clade 1      Clade 2   Clade 3  \n",
      "1      Cannabis  Plantae  Tracheophytes  Angiosperms  Eudicots  \n",
      "2        Croton  Plantae  Tracheophytes  Angiosperms  Eudicots  \n",
      "3  Rubber Plant  Plantae  Tracheophytes  Angiosperms  Eudicots  \n",
      "5       Begonia  Plantae  Tracheophytes  Angiosperms  Eudicots  \n",
      "Clade 4\n",
      "Rosids\n",
      "['Rosales' 'Malpighiales' 'Cucurbitales']\n",
      "Order\n"
     ]
    }
   ],
   "source": [
    "high_common_level, high_common_ancestor, high_descendants, high_descendant_level = tree_constructor.find_common_ancestor(df, ordering_list)\n",
    "if common_level is not None:\n",
    "    for descendant in high_descendants: \n",
    "        descendant_df = df[df[high_descendant_level] == descendant]\n",
    "        print(descendant_df)\n",
    "        low_common_level, low_common_ancestor, low_descendants, low_descendant_level = tree_constructor.find_common_ancestor(descendant_df, ordering_list)\n",
    "        print(low_common_level)\n",
    "        print(low_common_ancestor)\n",
    "        print(low_descendants)\n",
    "        print(low_descendant_level)"
   ]
  },
  {
   "cell_type": "code",
   "execution_count": 6,
   "metadata": {},
   "outputs": [],
   "source": [
    "def add_descendant_edge_recursion(graph, data_frame, ordering):\n",
    "    common_level, common_ancestor, descendants, descendant_level = tree_constructor.find_common_ancestor(data_frame, ordering)\n",
    "    if common_level is not None:\n",
    "        for descendant in descendants: \n",
    "            graph.add_edge(common_ancestor, descendant)\n",
    "            descendant_df = data_frame[data_frame[descendant_level] == descendant]\n",
    "            add_descendant_edge_recursion(graph, descendant_df, ordering)\n",
    "    return(graph)"
   ]
  },
  {
   "cell_type": "code",
   "execution_count": 7,
   "metadata": {},
   "outputs": [],
   "source": [
    "def visualize_genetic_relationships(data_frame, ordering):\n",
    "    \"\"\"\n",
    "    Visualizes genetic relationships between species as clades using Divisive Hierarchical Clustering.\n",
    "\n",
    "    Parameters:\n",
    "    - data_frame: pandas DataFrame with hierarchical levels of different species.\n",
    "\n",
    "    Returns:\n",
    "    - None (displays the dendrogram plot).\n",
    "    \"\"\"\n",
    "    \n",
    "    G = nx.DiGraph() \n",
    "\n",
    "    G = add_descendant_edge_recursion(G, data_frame, ordering)\n",
    "    # Plot the dendrogram\n",
    "    pos = nx.spring_layout(G)\n",
    "    nx.draw(G, pos, with_labels=True, font_weight='bold', node_size=700, node_color='skyblue', font_size=8)\n",
    "\n",
    "    # Display the plot\n",
    "    plt.show()"
   ]
  },
  {
   "cell_type": "code",
   "execution_count": 8,
   "metadata": {},
   "outputs": [
    {
     "data": {
      "image/png": "[encoded data removed]",
      "text/plain": [
       "<Figure size 640x480 with 1 Axes>"
      ]
     },
     "metadata": {},
     "output_type": "display_data"
    }
   ],
   "source": [
    "visualize_genetic_relationships(df, ordering_list)"
   ]
  }
 ],
 "metadata": {
  "kernelspec": {
   "display_name": "Python 3",
   "language": "python",
   "name": "python3"
  },
  "language_info": {
   "codemirror_mode": {
    "name": "ipython",
    "version": 3
   },
   "file_extension": ".py",
   "mimetype": "text/x-python",
   "name": "python",
   "nbconvert_exporter": "python",
   "pygments_lexer": "ipython3",
   "version": "3.11.8"
  }
 },
 "nbformat": 4,
 "nbformat_minor": 2
}
